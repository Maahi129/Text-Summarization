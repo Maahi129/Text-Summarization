{
 "cells": [
  {
   "cell_type": "code",
   "execution_count": 17,
   "id": "77b06f7b",
   "metadata": {},
   "outputs": [],
   "source": [
    "import spacy\n",
    "from spacy.lang.en.stop_words import STOP_WORDS\n",
    "from string import punctuation"
   ]
  },
  {
   "cell_type": "code",
   "execution_count": 18,
   "id": "2dc1b0e0",
   "metadata": {},
   "outputs": [],
   "source": [
    "text = '''Machine learning (ML) is the scientific study of algorithms and statistical models that computer systems \n",
    "use to progressively improve their performance on a specific task. Machine learning algorithms build a mathematical model \n",
    "of sample data, known as “training data”, in order to make predictions or decisions without being explicitly programmed \n",
    "to perform the task. Machine learning algorithms are used in the applications of email filtering, detection of network \n",
    "intruders, and computer vision, where it is infeasible to develop an algorithm of specific instructions for performing \n",
    "the task. Machine learning is closely related to computational statistics, which focuses on making predictions using \n",
    "computers. The study of mathematical optimization delivers methods, theory and application domains to the field of machine \n",
    "learning. Data mining is a field of study within machine learning and focuses on exploratory data analysis through \n",
    "unsupervised learning. In its application across business problems, machine learning is also referred to as predictive\n",
    "analytics.'''"
   ]
  },
  {
   "cell_type": "code",
   "execution_count": 19,
   "id": "a84988d2",
   "metadata": {},
   "outputs": [
    {
     "data": {
      "text/plain": [
       "1077"
      ]
     },
     "execution_count": 19,
     "metadata": {},
     "output_type": "execute_result"
    }
   ],
   "source": [
    "len(text)"
   ]
  },
  {
   "cell_type": "code",
   "execution_count": 27,
   "id": "7a14ace1",
   "metadata": {},
   "outputs": [],
   "source": [
    "nlp = spacy.load(\"en_core_web_sm\") # python3 -m spacy download en_core_web_sm"
   ]
  },
  {
   "cell_type": "code",
   "execution_count": 28,
   "id": "1adfbd15",
   "metadata": {},
   "outputs": [],
   "source": [
    "doc = nlp(text)"
   ]
  },
  {
   "cell_type": "code",
   "execution_count": 29,
   "id": "7674ca61",
   "metadata": {},
   "outputs": [
    {
     "data": {
      "text/plain": [
       "7"
      ]
     },
     "execution_count": 29,
     "metadata": {},
     "output_type": "execute_result"
    }
   ],
   "source": [
    "len(list(doc.sents))"
   ]
  },
  {
   "cell_type": "code",
   "execution_count": 30,
   "id": "d1d2da5e",
   "metadata": {},
   "outputs": [
    {
     "name": "stdout",
     "output_type": "stream",
     "text": [
      "['Machine', 'learning', '(', 'ML', ')', 'is', 'the', 'scientific', 'study', 'of', 'algorithms', 'and', 'statistical', 'models', 'that', 'computer', 'systems', '\\n', 'use', 'to', 'progressively', 'improve', 'their', 'performance', 'on', 'a', 'specific', 'task', '.', 'Machine', 'learning', 'algorithms', 'build', 'a', 'mathematical', 'model', '\\n', 'of', 'sample', 'data', ',', 'known', 'as', '“', 'training', 'data', '”', ',', 'in', 'order', 'to', 'make', 'predictions', 'or', 'decisions', 'without', 'being', 'explicitly', 'programmed', '\\n', 'to', 'perform', 'the', 'task', '.', 'Machine', 'learning', 'algorithms', 'are', 'used', 'in', 'the', 'applications', 'of', 'email', 'filtering', ',', 'detection', 'of', 'network', '\\n', 'intruders', ',', 'and', 'computer', 'vision', ',', 'where', 'it', 'is', 'infeasible', 'to', 'develop', 'an', 'algorithm', 'of', 'specific', 'instructions', 'for', 'performing', '\\n', 'the', 'task', '.', 'Machine', 'learning', 'is', 'closely', 'related', 'to', 'computational', 'statistics', ',', 'which', 'focuses', 'on', 'making', 'predictions', 'using', '\\n', 'computers', '.', 'The', 'study', 'of', 'mathematical', 'optimization', 'delivers', 'methods', ',', 'theory', 'and', 'application', 'domains', 'to', 'the', 'field', 'of', 'machine', '\\n', 'learning', '.', 'Data', 'mining', 'is', 'a', 'field', 'of', 'study', 'within', 'machine', 'learning', 'and', 'focuses', 'on', 'exploratory', 'data', 'analysis', 'through', '\\n', 'unsupervised', 'learning', '.', 'In', 'its', 'application', 'across', 'business', 'problems', ',', 'machine', 'learning', 'is', 'also', 'referred', 'to', 'as', 'predictive', '\\n', 'analytics', '.']\n"
     ]
    }
   ],
   "source": [
    "tokens = [token.text for token in doc]\n",
    "print(tokens)"
   ]
  },
  {
   "cell_type": "code",
   "execution_count": 31,
   "id": "0b29d957",
   "metadata": {},
   "outputs": [
    {
     "data": {
      "text/plain": [
       "'!\"#$%&\\'()*+,-./:;<=>?@[\\\\]^_`{|}~'"
      ]
     },
     "execution_count": 31,
     "metadata": {},
     "output_type": "execute_result"
    }
   ],
   "source": [
    "punctuation"
   ]
  },
  {
   "cell_type": "code",
   "execution_count": 32,
   "id": "1e603bf5",
   "metadata": {},
   "outputs": [],
   "source": [
    "punctuation = punctuation + '\\n'"
   ]
  },
  {
   "cell_type": "code",
   "execution_count": 39,
   "id": "d2d2b1c3",
   "metadata": {},
   "outputs": [],
   "source": [
    "# Frequency Of Words\n",
    "word_freq = {}\n",
    "stop_words = list(STOP_WORDS)\n",
    "\n",
    "for word in doc:\n",
    "    if word.text.lower() not in stop_words:\n",
    "        if word.text.lower() not in punctuation:\n",
    "            if word.text not in word_freq.keys():\n",
    "                word_freq[word.text] = 1\n",
    "            else:\n",
    "                word_freq[word.text] += 1\n"
   ]
  },
  {
   "cell_type": "code",
   "execution_count": 61,
   "id": "b97eafea",
   "metadata": {},
   "outputs": [
    {
     "name": "stdout",
     "output_type": "stream",
     "text": [
      "{'Machine': 0.0625, 'learning': 0.125, 'ML': 0.015625, 'scientific': 0.015625, 'study': 0.046875, 'algorithms': 0.046875, 'statistical': 0.015625, 'models': 0.015625, 'computer': 0.03125, 'systems': 0.015625, 'use': 0.015625, 'progressively': 0.015625, 'improve': 0.015625, 'performance': 0.015625, 'specific': 0.03125, 'task': 0.046875, 'build': 0.015625, 'mathematical': 0.03125, 'model': 0.015625, 'sample': 0.015625, 'data': 0.046875, 'known': 0.015625, '“': 0.015625, 'training': 0.015625, '”': 0.015625, 'order': 0.015625, 'predictions': 0.03125, 'decisions': 0.015625, 'explicitly': 0.015625, 'programmed': 0.015625, 'perform': 0.015625, 'applications': 0.015625, 'email': 0.015625, 'filtering': 0.015625, 'detection': 0.015625, 'network': 0.015625, 'intruders': 0.015625, 'vision': 0.015625, 'infeasible': 0.015625, 'develop': 0.015625, 'algorithm': 0.015625, 'instructions': 0.015625, 'performing': 0.015625, 'closely': 0.015625, 'related': 0.015625, 'computational': 0.015625, 'statistics': 0.015625, 'focuses': 0.03125, 'making': 0.015625, 'computers': 0.015625, 'optimization': 0.015625, 'delivers': 0.015625, 'methods': 0.015625, 'theory': 0.015625, 'application': 0.03125, 'domains': 0.015625, 'field': 0.03125, 'machine': 0.046875, 'Data': 0.015625, 'mining': 0.015625, 'exploratory': 0.015625, 'analysis': 0.015625, 'unsupervised': 0.015625, 'business': 0.015625, 'problems': 0.015625, 'referred': 0.015625, 'predictive': 0.015625, 'analytics': 0.015625}\n"
     ]
    }
   ],
   "source": [
    "print(word_freq)"
   ]
  },
  {
   "cell_type": "code",
   "execution_count": 62,
   "id": "9db21b16",
   "metadata": {},
   "outputs": [],
   "source": [
    "max_freq = max(word_freq.values())"
   ]
  },
  {
   "cell_type": "code",
   "execution_count": 63,
   "id": "5872bb6c",
   "metadata": {},
   "outputs": [],
   "source": [
    "# Normalising\n",
    "for word in word_freq.keys():\n",
    "    word_freq[word] = word_freq[word] / max_freq"
   ]
  },
  {
   "cell_type": "code",
   "execution_count": 64,
   "id": "e15e673c",
   "metadata": {
    "scrolled": true
   },
   "outputs": [
    {
     "name": "stdout",
     "output_type": "stream",
     "text": [
      "{'Machine': 0.5, 'learning': 1.0, 'ML': 0.125, 'scientific': 0.125, 'study': 0.375, 'algorithms': 0.375, 'statistical': 0.125, 'models': 0.125, 'computer': 0.25, 'systems': 0.125, 'use': 0.125, 'progressively': 0.125, 'improve': 0.125, 'performance': 0.125, 'specific': 0.25, 'task': 0.375, 'build': 0.125, 'mathematical': 0.25, 'model': 0.125, 'sample': 0.125, 'data': 0.375, 'known': 0.125, '“': 0.125, 'training': 0.125, '”': 0.125, 'order': 0.125, 'predictions': 0.25, 'decisions': 0.125, 'explicitly': 0.125, 'programmed': 0.125, 'perform': 0.125, 'applications': 0.125, 'email': 0.125, 'filtering': 0.125, 'detection': 0.125, 'network': 0.125, 'intruders': 0.125, 'vision': 0.125, 'infeasible': 0.125, 'develop': 0.125, 'algorithm': 0.125, 'instructions': 0.125, 'performing': 0.125, 'closely': 0.125, 'related': 0.125, 'computational': 0.125, 'statistics': 0.125, 'focuses': 0.25, 'making': 0.125, 'computers': 0.125, 'optimization': 0.125, 'delivers': 0.125, 'methods': 0.125, 'theory': 0.125, 'application': 0.25, 'domains': 0.125, 'field': 0.25, 'machine': 0.375, 'Data': 0.125, 'mining': 0.125, 'exploratory': 0.125, 'analysis': 0.125, 'unsupervised': 0.125, 'business': 0.125, 'problems': 0.125, 'referred': 0.125, 'predictive': 0.125, 'analytics': 0.125}\n"
     ]
    }
   ],
   "source": [
    "print(word_freq)"
   ]
  },
  {
   "cell_type": "code",
   "execution_count": 65,
   "id": "fa4e0c0d",
   "metadata": {},
   "outputs": [
    {
     "name": "stdout",
     "output_type": "stream",
     "text": [
      "[Machine learning (ML) is the scientific study of algorithms and statistical models that computer systems \n",
      "use to progressively improve their performance on a specific task., Machine learning algorithms build a mathematical model \n",
      "of sample data, known as “training data”, in order to make predictions or decisions without being explicitly programmed \n",
      "to perform the task., Machine learning algorithms are used in the applications of email filtering, detection of network \n",
      "intruders, and computer vision, where it is infeasible to develop an algorithm of specific instructions for performing \n",
      "the task., Machine learning is closely related to computational statistics, which focuses on making predictions using \n",
      "computers., The study of mathematical optimization delivers methods, theory and application domains to the field of machine \n",
      "learning., Data mining is a field of study within machine learning and focuses on exploratory data analysis through \n",
      "unsupervised learning., In its application across business problems, machine learning is also referred to as predictive\n",
      "analytics.]\n"
     ]
    }
   ],
   "source": [
    "sent_tokens = [sent for sent in doc.sents]\n",
    "print(sent_tokens)"
   ]
  },
  {
   "cell_type": "code",
   "execution_count": 66,
   "id": "ab23ada9",
   "metadata": {},
   "outputs": [],
   "source": [
    "sent_score = {}"
   ]
  },
  {
   "cell_type": "code",
   "execution_count": 69,
   "id": "f0d44550",
   "metadata": {},
   "outputs": [],
   "source": [
    "for sent in sent_tokens:\n",
    "    for word in sent:\n",
    "        if word.text.lower() in word_freq.keys():\n",
    "            if sent not in sent_score.keys():\n",
    "                sent_score[sent] = word_freq[word.text.lower()]\n",
    "            else:\n",
    "                sent_score[sent] += word_freq[word.text.lower()]\n",
    "                "
   ]
  },
  {
   "cell_type": "code",
   "execution_count": 70,
   "id": "ccd4fa39",
   "metadata": {},
   "outputs": [
    {
     "name": "stdout",
     "output_type": "stream",
     "text": [
      "{Machine learning (ML) is the scientific study of algorithms and statistical models that computer systems \n",
      "use to progressively improve their performance on a specific task.: 4.0, Machine learning algorithms build a mathematical model \n",
      "of sample data, known as “training data”, in order to make predictions or decisions without being explicitly programmed \n",
      "to perform the task.: 4.875, Machine learning algorithms are used in the applications of email filtering, detection of network \n",
      "intruders, and computer vision, where it is infeasible to develop an algorithm of specific instructions for performing \n",
      "the task.: 4.125, Machine learning is closely related to computational statistics, which focuses on making predictions using \n",
      "computers.: 2.625, The study of mathematical optimization delivers methods, theory and application domains to the field of machine \n",
      "learning.: 3.125, Data mining is a field of study within machine learning and focuses on exploratory data analysis through \n",
      "unsupervised learning.: 4.5, In its application across business problems, machine learning is also referred to as predictive\n",
      "analytics.: 2.25}\n"
     ]
    }
   ],
   "source": [
    "print(sent_score)"
   ]
  },
  {
   "cell_type": "code",
   "execution_count": 71,
   "id": "b299c1fc",
   "metadata": {},
   "outputs": [],
   "source": [
    "from heapq import nlargest"
   ]
  },
  {
   "cell_type": "code",
   "execution_count": 72,
   "id": "bd84a78a",
   "metadata": {},
   "outputs": [
    {
     "data": {
      "text/plain": [
       "2.1"
      ]
     },
     "execution_count": 72,
     "metadata": {},
     "output_type": "execute_result"
    }
   ],
   "source": [
    "len(sent_score) * 0.3"
   ]
  },
  {
   "cell_type": "code",
   "execution_count": 74,
   "id": "a1abc5ea",
   "metadata": {},
   "outputs": [
    {
     "data": {
      "text/plain": [
       "2"
      ]
     },
     "execution_count": 74,
     "metadata": {},
     "output_type": "execute_result"
    }
   ],
   "source": [
    "2"
   ]
  },
  {
   "cell_type": "code",
   "execution_count": 78,
   "id": "7fb0d860",
   "metadata": {},
   "outputs": [],
   "source": [
    "summary = nlargest(n = 2, iterable = sent_score, key = sent_score.get)"
   ]
  },
  {
   "cell_type": "code",
   "execution_count": 83,
   "id": "7355b9d9",
   "metadata": {},
   "outputs": [
    {
     "name": "stdout",
     "output_type": "stream",
     "text": [
      "Machine learning algorithms build a mathematical model \n",
      "of sample data, known as “training data”, in order to make predictions or decisions without being explicitly programmed \n",
      "to perform the task. Data mining is a field of study within machine learning and focuses on exploratory data analysis through \n",
      "unsupervised learning.\n"
     ]
    }
   ],
   "source": [
    "final_summary = [word.text for word in summary]\n",
    "summary = \" \".join(final_summary)\n",
    "print(summary)"
   ]
  },
  {
   "cell_type": "code",
   "execution_count": null,
   "id": "f7735667",
   "metadata": {},
   "outputs": [],
   "source": []
  },
  {
   "cell_type": "code",
   "execution_count": null,
   "id": "b421ffe6",
   "metadata": {},
   "outputs": [],
   "source": []
  },
  {
   "cell_type": "code",
   "execution_count": null,
   "id": "45b4b072",
   "metadata": {},
   "outputs": [],
   "source": []
  }
 ],
 "metadata": {
  "kernelspec": {
   "display_name": "Python 3 (ipykernel)",
   "language": "python",
   "name": "python3"
  },
  "language_info": {
   "codemirror_mode": {
    "name": "ipython",
    "version": 3
   },
   "file_extension": ".py",
   "mimetype": "text/x-python",
   "name": "python",
   "nbconvert_exporter": "python",
   "pygments_lexer": "ipython3",
   "version": "3.9.7"
  }
 },
 "nbformat": 4,
 "nbformat_minor": 5
}
